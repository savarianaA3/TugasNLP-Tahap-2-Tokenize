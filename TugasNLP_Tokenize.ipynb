{
  "nbformat": 4,
  "nbformat_minor": 0,
  "metadata": {
    "colab": {
      "provenance": [],
      "mount_file_id": "1G1gWljxlpETwMx2zDiyC3XCWVJttcVPz",
      "authorship_tag": "ABX9TyMfhu8Ug6+CBk5AxZIwP8Z9",
      "include_colab_link": true
    },
    "kernelspec": {
      "name": "python3",
      "display_name": "Python 3"
    },
    "language_info": {
      "name": "python"
    }
  },
  "cells": [
    {
      "cell_type": "markdown",
      "metadata": {
        "id": "view-in-github",
        "colab_type": "text"
      },
      "source": [
        "<a href=\"https://colab.research.google.com/github/savarianaA3/coba/blob/master/TugasNLP_Tokenize.ipynb\" target=\"_parent\"><img src=\"https://colab.research.google.com/assets/colab-badge.svg\" alt=\"Open In Colab\"/></a>"
      ]
    },
    {
      "cell_type": "code",
      "execution_count": null,
      "metadata": {
        "colab": {
          "base_uri": "https://localhost:8080/"
        },
        "id": "V1GxO1VjSp-s",
        "outputId": "c2347d3d-b650-4bf9-ea1c-495977f1186e"
      },
      "outputs": [
        {
          "output_type": "stream",
          "name": "stdout",
          "text": [
            "Requirement already satisfied: nltk in /usr/local/lib/python3.10/dist-packages (3.8.1)\n",
            "Requirement already satisfied: click in /usr/local/lib/python3.10/dist-packages (from nltk) (8.1.7)\n",
            "Requirement already satisfied: joblib in /usr/local/lib/python3.10/dist-packages (from nltk) (1.4.2)\n",
            "Requirement already satisfied: regex>=2021.8.3 in /usr/local/lib/python3.10/dist-packages (from nltk) (2024.9.11)\n",
            "Requirement already satisfied: tqdm in /usr/local/lib/python3.10/dist-packages (from nltk) (4.66.5)\n"
          ]
        }
      ],
      "source": [
        "pip install nltk"
      ]
    },
    {
      "cell_type": "code",
      "source": [
        "!pip install nltk"
      ],
      "metadata": {
        "colab": {
          "base_uri": "https://localhost:8080/"
        },
        "id": "9bT7xTPJS5ld",
        "outputId": "ef0ddaeb-0000-4917-c317-d5395e7138fa"
      },
      "execution_count": null,
      "outputs": [
        {
          "output_type": "stream",
          "name": "stdout",
          "text": [
            "Requirement already satisfied: nltk in /usr/local/lib/python3.10/dist-packages (3.8.1)\n",
            "Requirement already satisfied: click in /usr/local/lib/python3.10/dist-packages (from nltk) (8.1.7)\n",
            "Requirement already satisfied: joblib in /usr/local/lib/python3.10/dist-packages (from nltk) (1.4.2)\n",
            "Requirement already satisfied: regex>=2021.8.3 in /usr/local/lib/python3.10/dist-packages (from nltk) (2024.9.11)\n",
            "Requirement already satisfied: tqdm in /usr/local/lib/python3.10/dist-packages (from nltk) (4.66.5)\n"
          ]
        }
      ]
    },
    {
      "cell_type": "code",
      "source": [],
      "metadata": {
        "colab": {
          "base_uri": "https://localhost:8080/"
        },
        "id": "zG6df4lJTAP4",
        "outputId": "fa3c9f4c-2e9b-4412-e320-c99eeba99274"
      },
      "execution_count": null,
      "outputs": [
        {
          "output_type": "stream",
          "name": "stderr",
          "text": [
            "[nltk_data] Downloading package punkt to /root/nltk_data...\n",
            "[nltk_data]   Unzipping tokenizers/punkt.zip.\n"
          ]
        },
        {
          "output_type": "stream",
          "name": "stdout",
          "text": [
            "Word Tokens: ['Universitas', 'Pelita', 'Bangsa', ',', 'yang', 'terletak', 'di', 'Cikarang', ',', 'Bekasi', ',', 'adalah', 'salah', 'satu', 'universitas', 'swasta', 'yang', 'terus', 'berkembang', 'pesat', 'di', 'Indonesia', '!', 'Kampus', 'ini', 'menawarkan', 'berbagai', 'program', 'studi', ',', 'mulai', 'dari', 'Teknik', 'Informatika', ',', 'Manajemen', ',', 'hingga', 'Ilmu', 'Hukum', ',', 'yang', 'semuanya', 'dirancang', 'untuk', 'membekali', 'mahasiswa', 'dengan', 'keterampilan', 'yang', 'relevan', 'di', 'dunia', 'kerja', '.', 'Dengan', 'lokasi', 'strategis', 'di', 'kawasan', 'industri', '(', 'apakah', 'ini', 'bukan', 'keuntungan', 'besar', '?', ')', ',', 'Universitas', 'Pelita', 'Bangsa', 'memiliki', 'banyak', 'keunggulan', ',', 'termasuk', 'akses', 'mudah', 'ke', 'berbagai', 'perusahaan', 'besar', 'untuk', 'keperluan', 'magang', 'dan', 'kerja', 'sama', 'industri', '!', 'Visi', 'kampus', 'ini', 'adalah', 'mencetak', 'lulusan', 'yang', 'berdaya', 'saing', 'tinggi', 'melalui', 'pengajaran', 'yang', 'berkualitas', 'dan', 'fasilitas', 'modern', '(', 'wow', '!', ')', ',', 'yang', 'didukung', 'oleh', 'dosen-dosen', 'berpengalaman', '.']\n",
            "Sentence Tokens: ['Universitas Pelita Bangsa, yang terletak di Cikarang, Bekasi, adalah salah satu universitas swasta yang terus berkembang pesat di Indonesia!', 'Kampus ini menawarkan berbagai program studi, mulai dari Teknik Informatika, Manajemen, hingga Ilmu Hukum, yang semuanya dirancang untuk membekali mahasiswa dengan keterampilan yang relevan di dunia kerja.', 'Dengan lokasi strategis di kawasan industri (apakah ini bukan keuntungan besar?', '), Universitas Pelita Bangsa memiliki banyak keunggulan, termasuk akses mudah ke berbagai perusahaan besar untuk keperluan magang dan kerja sama industri!', 'Visi kampus ini adalah mencetak lulusan yang berdaya saing tinggi melalui pengajaran yang berkualitas dan fasilitas modern (wow!', '), yang didukung oleh dosen-dosen berpengalaman.']\n",
            "Jumlah kata: 120\n"
          ]
        }
      ]
    }
  ]
}